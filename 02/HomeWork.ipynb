{
 "cells": [
  {
   "cell_type": "code",
   "execution_count": 1,
   "metadata": {},
   "outputs": [],
   "source": [
    "import pandas as pd\n",
    "import numpy as np\n",
    "from collections import Counter\n",
    "from datetime import datetime\n",
    "\n",
    "from tqdm.notebook import tqdm\n",
    "\n",
    "from sklearn.feature_extraction.text import TfidfVectorizer\n",
    "from sklearn.linear_model import LinearRegression\n",
    "from sklearn.preprocessing import StandardScaler, MinMaxScaler\n",
    "from sklearn.model_selection import train_test_split\n",
    "from sklearn.metrics import mean_squared_error"
   ]
  },
  {
   "cell_type": "code",
   "execution_count": 2,
   "metadata": {},
   "outputs": [],
   "source": [
    "movies = pd.read_csv('movies.csv')\n",
    "ratings = pd.read_csv('ratings.csv')\n",
    "tags = pd.read_csv('tags.csv')"
   ]
  },
  {
   "cell_type": "code",
   "execution_count": 3,
   "metadata": {},
   "outputs": [
    {
     "data": {
      "text/plain": "   movieId                               title  \\\n0        1                    Toy Story (1995)   \n1        2                      Jumanji (1995)   \n2        3             Grumpier Old Men (1995)   \n3        4            Waiting to Exhale (1995)   \n4        5  Father of the Bride Part II (1995)   \n\n                                        genres  \n0  Adventure|Animation|Children|Comedy|Fantasy  \n1                   Adventure|Children|Fantasy  \n2                               Comedy|Romance  \n3                         Comedy|Drama|Romance  \n4                                       Comedy  ",
      "text/html": "<div>\n<style scoped>\n    .dataframe tbody tr th:only-of-type {\n        vertical-align: middle;\n    }\n\n    .dataframe tbody tr th {\n        vertical-align: top;\n    }\n\n    .dataframe thead th {\n        text-align: right;\n    }\n</style>\n<table border=\"1\" class=\"dataframe\">\n  <thead>\n    <tr style=\"text-align: right;\">\n      <th></th>\n      <th>movieId</th>\n      <th>title</th>\n      <th>genres</th>\n    </tr>\n  </thead>\n  <tbody>\n    <tr>\n      <th>0</th>\n      <td>1</td>\n      <td>Toy Story (1995)</td>\n      <td>Adventure|Animation|Children|Comedy|Fantasy</td>\n    </tr>\n    <tr>\n      <th>1</th>\n      <td>2</td>\n      <td>Jumanji (1995)</td>\n      <td>Adventure|Children|Fantasy</td>\n    </tr>\n    <tr>\n      <th>2</th>\n      <td>3</td>\n      <td>Grumpier Old Men (1995)</td>\n      <td>Comedy|Romance</td>\n    </tr>\n    <tr>\n      <th>3</th>\n      <td>4</td>\n      <td>Waiting to Exhale (1995)</td>\n      <td>Comedy|Drama|Romance</td>\n    </tr>\n    <tr>\n      <th>4</th>\n      <td>5</td>\n      <td>Father of the Bride Part II (1995)</td>\n      <td>Comedy</td>\n    </tr>\n  </tbody>\n</table>\n</div>"
     },
     "execution_count": 3,
     "metadata": {},
     "output_type": "execute_result"
    }
   ],
   "source": [
    "movies.head()"
   ]
  },
  {
   "cell_type": "code",
   "execution_count": 4,
   "metadata": {},
   "outputs": [
    {
     "data": {
      "text/plain": "   userId  movieId  rating  timestamp\n0       1        1     4.0  964982703\n1       1        3     4.0  964981247\n2       1        6     4.0  964982224\n3       1       47     5.0  964983815\n4       1       50     5.0  964982931",
      "text/html": "<div>\n<style scoped>\n    .dataframe tbody tr th:only-of-type {\n        vertical-align: middle;\n    }\n\n    .dataframe tbody tr th {\n        vertical-align: top;\n    }\n\n    .dataframe thead th {\n        text-align: right;\n    }\n</style>\n<table border=\"1\" class=\"dataframe\">\n  <thead>\n    <tr style=\"text-align: right;\">\n      <th></th>\n      <th>userId</th>\n      <th>movieId</th>\n      <th>rating</th>\n      <th>timestamp</th>\n    </tr>\n  </thead>\n  <tbody>\n    <tr>\n      <th>0</th>\n      <td>1</td>\n      <td>1</td>\n      <td>4.0</td>\n      <td>964982703</td>\n    </tr>\n    <tr>\n      <th>1</th>\n      <td>1</td>\n      <td>3</td>\n      <td>4.0</td>\n      <td>964981247</td>\n    </tr>\n    <tr>\n      <th>2</th>\n      <td>1</td>\n      <td>6</td>\n      <td>4.0</td>\n      <td>964982224</td>\n    </tr>\n    <tr>\n      <th>3</th>\n      <td>1</td>\n      <td>47</td>\n      <td>5.0</td>\n      <td>964983815</td>\n    </tr>\n    <tr>\n      <th>4</th>\n      <td>1</td>\n      <td>50</td>\n      <td>5.0</td>\n      <td>964982931</td>\n    </tr>\n  </tbody>\n</table>\n</div>"
     },
     "execution_count": 4,
     "metadata": {},
     "output_type": "execute_result"
    }
   ],
   "source": [
    "ratings.head()"
   ]
  },
  {
   "cell_type": "code",
   "execution_count": 5,
   "metadata": {},
   "outputs": [
    {
     "data": {
      "text/plain": "   userId  movieId              tag   timestamp\n0       2    60756            funny  1445714994\n1       2    60756  Highly quotable  1445714996\n2       2    60756     will ferrell  1445714992\n3       2    89774     Boxing story  1445715207\n4       2    89774              MMA  1445715200",
      "text/html": "<div>\n<style scoped>\n    .dataframe tbody tr th:only-of-type {\n        vertical-align: middle;\n    }\n\n    .dataframe tbody tr th {\n        vertical-align: top;\n    }\n\n    .dataframe thead th {\n        text-align: right;\n    }\n</style>\n<table border=\"1\" class=\"dataframe\">\n  <thead>\n    <tr style=\"text-align: right;\">\n      <th></th>\n      <th>userId</th>\n      <th>movieId</th>\n      <th>tag</th>\n      <th>timestamp</th>\n    </tr>\n  </thead>\n  <tbody>\n    <tr>\n      <th>0</th>\n      <td>2</td>\n      <td>60756</td>\n      <td>funny</td>\n      <td>1445714994</td>\n    </tr>\n    <tr>\n      <th>1</th>\n      <td>2</td>\n      <td>60756</td>\n      <td>Highly quotable</td>\n      <td>1445714996</td>\n    </tr>\n    <tr>\n      <th>2</th>\n      <td>2</td>\n      <td>60756</td>\n      <td>will ferrell</td>\n      <td>1445714992</td>\n    </tr>\n    <tr>\n      <th>3</th>\n      <td>2</td>\n      <td>89774</td>\n      <td>Boxing story</td>\n      <td>1445715207</td>\n    </tr>\n    <tr>\n      <th>4</th>\n      <td>2</td>\n      <td>89774</td>\n      <td>MMA</td>\n      <td>1445715200</td>\n    </tr>\n  </tbody>\n</table>\n</div>"
     },
     "execution_count": 5,
     "metadata": {},
     "output_type": "execute_result"
    }
   ],
   "source": [
    "tags.head()"
   ]
  },
  {
   "cell_type": "code",
   "execution_count": 6,
   "metadata": {},
   "outputs": [],
   "source": [
    "def change_string(s):\n",
    "    return ' '.join(s.replace(' ', '').replace('-', '').split('|'))"
   ]
  },
  {
   "cell_type": "code",
   "execution_count": 7,
   "metadata": {},
   "outputs": [],
   "source": [
    "movie_genres = [change_string(g) for g in movies.genres.values]\n",
    "\n",
    "genres_tfidf = TfidfVectorizer()\n",
    "X_train_genres_tfidf = genres_tfidf.fit_transform(movie_genres)"
   ]
  },
  {
   "cell_type": "code",
   "execution_count": 8,
   "metadata": {},
   "outputs": [
    {
     "data": {
      "text/plain": "  0%|          | 0/1572 [00:00<?, ?it/s]",
      "application/vnd.jupyter.widget-view+json": {
       "version_major": 2,
       "version_minor": 0,
       "model_id": "80278bbd351b4bba9faf30b626f5b62b"
      }
     },
     "metadata": {},
     "output_type": "display_data"
    }
   ],
   "source": [
    "movies_with_tags = movies.join(tags.set_index('movieId'), on='movieId')\n",
    "movies_with_tags.tag.unique()\n",
    "movies_with_tags.dropna(inplace=True)\n",
    "\n",
    "tag_strings = []\n",
    "for movie, group in tqdm(movies_with_tags.groupby('movieId')):\n",
    "    tag_strings.append(' '.join([change_string(s) for s in group.tag.values]))\n",
    "    \n",
    "tags_tfidf = TfidfVectorizer()\n",
    "X_train_tags_tfidf = tags_tfidf.fit_transform(tag_strings)"
   ]
  },
  {
   "cell_type": "markdown",
   "source": [
    "Система оценки будет включать 2 группы параметров\n",
    "1. описание фильмов, т.е. векторное представление жанров, тегов, а также средний рейтинг фильма\n",
    "2. средний и медианный рейтинг, который дает каждый пользователь, а также стандартное отклонение рейтинга в разрезе пользователя\n",
    "\n",
    "целевая метрика - рейтинг, который пользователь поставил фильму"
   ],
   "metadata": {
    "collapsed": false
   }
  },
  {
   "cell_type": "code",
   "execution_count": 9,
   "metadata": {},
   "outputs": [],
   "source": [
    "# создадим DF с tf-idf для жанров\n",
    "# genres_tfidf - tfidf для жанров\n",
    "\n",
    "data = {}\n",
    "for m in movies[[\"movieId\", \"genres\"]].values:\n",
    "    movie_id = m[0]\n",
    "    genres_string = change_string(m[1])\n",
    "    genres_tfidf_values = genres_tfidf.transform([genres_string]).toarray()[0]\n",
    "    data[movie_id] = genres_tfidf_values\n",
    "\n",
    "movies_params_genres = pd.DataFrame.from_dict(data, orient='index')\n",
    "movies_params_genres.index.name = 'movieId'\n",
    "movies_params_genres.rename(lambda x: f'genre_{x}', axis=1, inplace=True)"
   ]
  },
  {
   "cell_type": "code",
   "execution_count": 10,
   "metadata": {},
   "outputs": [
    {
     "data": {
      "text/plain": "  0%|          | 0/1572 [00:00<?, ?it/s]",
      "application/vnd.jupyter.widget-view+json": {
       "version_major": 2,
       "version_minor": 0,
       "model_id": "5a71f3f6899e44f9aec20329948fa5ec"
      }
     },
     "metadata": {},
     "output_type": "display_data"
    }
   ],
   "source": [
    "# создадим DF с tf-idf для тегов\n",
    "# tags_tfidf - tfidf для тэгов\n",
    "\n",
    "data = {}\n",
    "for movie, group in tqdm(movies_with_tags[[\"movieId\", \"tag\"]].groupby('movieId')):\n",
    "    tags_string = \" \".join([t for t in group[\"tag\"].values])\n",
    "    tags_string = change_string(tags_string)\n",
    "    tags_tfidf_values = tags_tfidf.transform([tags_string]).toarray()[0]\n",
    "    data[movie] = tags_tfidf_values\n",
    "movies_params_tags = pd.DataFrame.from_dict(data, orient='index')\n",
    "movies_params_tags.index.name = 'movieId'\n",
    "movies_params_tags.rename(lambda x: f'tags_{x}', axis=1, inplace=True)"
   ]
  },
  {
   "cell_type": "code",
   "execution_count": 11,
   "metadata": {},
   "outputs": [],
   "source": [
    "# объеденим оба DF\n",
    "movies_params = movies_params_genres.join(movies_params_tags, on=\"movieId\", lsuffix=\"g\", rsuffix=\"t\")\n",
    "# уберем пропуски тегов. заменим пропуски на 0, чтобы не потерять оценки по фильмам\n",
    "movies_params = movies_params.fillna(0)"
   ]
  },
  {
   "cell_type": "code",
   "execution_count": 13,
   "outputs": [],
   "source": [
    "# рассчитаем средний рейтинг фильма\n",
    "movies_rating_avg = ratings[[\"movieId\", \"rating\"]].groupby(\"movieId\")[\"rating\"].mean()\n",
    "# добавим средний рейтинг фильма данные с параметрами\n",
    "movies_params = movies_params.join(movies_rating_avg)\n",
    "# для фильмов без рейтинга, заменим значения на средний рейтинг по выборке\n",
    "movies_params['rating'].fillna((movies_params['rating'].mean()), inplace=True)\n",
    "# movies_params['rating'].dropna(inplace=True)\n",
    "movies_params.rename(columns={'rating': 'movie_rating_avg'}, inplace=True)"
   ],
   "metadata": {
    "collapsed": false
   }
  },
  {
   "cell_type": "code",
   "execution_count": 14,
   "outputs": [],
   "source": [
    "# добавляем к массиву данных о фильмах - пользователя и его оценку\n",
    "# оценка будет нашей целевой переменной\n",
    "# индексом станет комбинация фильма и пользователя\n",
    "movies_params = ratings[[\"movieId\", \"userId\", \"rating\"]].join(movies_params, on=\"movieId\")\n",
    "# удаляем фильмы где пользователь не поставил оценку\n",
    "movies_params.dropna(inplace=True)\n",
    "movies_params[\"movie-user\"] = movies_params['movieId'].apply(str) +\"-\"+movies_params['userId'].apply(str)\n",
    "movies_params.drop(columns=[\"movieId\"], inplace=True)\n",
    "movies_params.reset_index(drop=True)\n",
    "movies_params.set_index(\"movie-user\", inplace=True)"
   ],
   "metadata": {
    "collapsed": false
   }
  },
  {
   "cell_type": "code",
   "execution_count": 15,
   "outputs": [],
   "source": [
    "# определим средний, медианный рейтинг, стд.отклонение рейтинга, который ставит каждый пользователь\n",
    "# эти параметры будут описывать нашего пользователя\n",
    "user_rating_avg = ratings[[\"userId\", \"rating\"]].groupby(\"userId\").agg(\n",
    "    UserMeanRating=('rating', np.mean),\n",
    "    UserMedianReting=('rating', np.median),\n",
    "    UserVarianceRating=('rating', np.std)\n",
    ")\n",
    "# добавляем данные о пользователе в массив значений\n",
    "movies_params = movies_params.join(user_rating_avg, on=\"userId\")"
   ],
   "metadata": {
    "collapsed": false
   }
  },
  {
   "cell_type": "code",
   "execution_count": 16,
   "outputs": [],
   "source": [
    "all_data = movies_params.copy()\n",
    "all_data.reset_index(drop=True,inplace=True)\n",
    "\n",
    "# userId = 1\n",
    "# y = all_data[all_data[\"userId\"]==userId][\"rating\"]\n",
    "# X = all_data[all_data[\"userId\"]==userId].drop(columns=[\"rating\", \"userId\"])\n",
    "y = all_data[\"rating\"]\n",
    "X = all_data.drop(columns=[\"rating\", \"userId\"])\n",
    "\n",
    "X_scaler = MinMaxScaler()\n",
    "X = X_scaler.fit_transform(X)\n",
    "\n",
    "X_train, X_test, y_train, y_test = train_test_split(X, y, test_size=0.2, random_state=42)\n",
    "\n",
    "reg = LinearRegression(positive=True).fit(X_train, y_train)"
   ],
   "metadata": {
    "collapsed": false
   }
  },
  {
   "cell_type": "code",
   "execution_count": 19,
   "outputs": [
    {
     "data": {
      "text/plain": "0.664382396996206"
     },
     "execution_count": 19,
     "metadata": {},
     "output_type": "execute_result"
    }
   ],
   "source": [
    "# расчет ошибки по тестовому массиву данных\n",
    "y_pred = reg.predict(X_test)\n",
    "mean_squared_error(y_test, y_pred)"
   ],
   "metadata": {
    "collapsed": false
   }
  },
  {
   "cell_type": "code",
   "execution_count": 20,
   "outputs": [
    {
     "data": {
      "text/plain": "0.5398622139587878"
     },
     "execution_count": 20,
     "metadata": {},
     "output_type": "execute_result"
    }
   ],
   "source": [
    "# пример ошибки по пользователю\n",
    "userId = 1\n",
    "\n",
    "y = all_data[all_data[\"userId\"]==userId][\"rating\"]\n",
    "X = all_data[all_data[\"userId\"]==userId].drop(columns=[\"rating\", \"userId\"])\n",
    "X = X_scaler.transform(X)\n",
    "\n",
    "y_pred = reg.predict(X)\n",
    "mean_squared_error(y, y_pred)"
   ],
   "metadata": {
    "collapsed": false
   }
  }
 ],
 "metadata": {
  "kernelspec": {
   "display_name": "Python 3",
   "language": "python",
   "name": "python3"
  },
  "language_info": {
   "codemirror_mode": {
    "name": "ipython",
    "version": 3
   },
   "file_extension": ".py",
   "mimetype": "text/x-python",
   "name": "python",
   "nbconvert_exporter": "python",
   "pygments_lexer": "ipython3",
   "version": "3.8.1"
  }
 },
 "nbformat": 4,
 "nbformat_minor": 4
}
